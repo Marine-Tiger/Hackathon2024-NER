{
 "cells": [
  {
   "cell_type": "code",
   "execution_count": null,
   "metadata": {},
   "outputs": [],
   "source": [
    "# pip install crosslingual-coreference\n",
    "import spacy#, coreferee\n",
    "nlp = spacy.load(\"fr_core_news_lg\")\n",
    "# nlp.add_pipe('coreferee')\n"
   ]
  },
  {
   "cell_type": "code",
   "execution_count": null,
   "metadata": {},
   "outputs": [],
   "source": [
    "import sys\n",
    "sys.path.append('..')\n",
    "from extract_corpus import get_corpus\n",
    "\n",
    "corpus = get_corpus('../data')\n"
   ]
  },
  {
   "cell_type": "code",
   "execution_count": null,
   "metadata": {},
   "outputs": [],
   "source": [
    "\n",
    "# for year in corpus:\n",
    "#   print(year)\n",
    "\n",
    "for year in corpus:\n",
    "  year_text = \"\\n\".join([chunk.text for chunk in corpus[year]]) #le but c'est de concatener le texte de chaque chunk de 1917\n",
    "  doc = nlp(year_text)\n",
    "  persons = [ent for ent in doc.ents if ent.label_ == \"PER\"]\n",
    "  for person in persons:\n",
    "    if (person.root.head.pos_ == \"ADJ\" and person.root.dep_==\"nsubj\"):\n",
    "      print(f\"{person.text:<20} {person.root.head.text:<20} {person.root.head.pos_:<10} {person.root.dep_}\")\n",
    "      print(\"\\n======\\n\")\n"
   ]
  },
  {
   "cell_type": "code",
   "execution_count": null,
   "metadata": {},
   "outputs": [],
   "source": [
    "doc._.coref_chains.print()\n",
    "# print(doc._.coref_chains.resolve(doc[31]))\n",
    "\n"
   ]
  },
  {
   "cell_type": "code",
   "execution_count": null,
   "metadata": {},
   "outputs": [],
   "source": [
    "spacy.displacy.serve(doc, style=\"ent\")#, options={\"ents\": [\"PER\"]})"
   ]
  },
  {
   "cell_type": "code",
   "execution_count": 93,
   "metadata": {},
   "outputs": [],
   "source": [
    "doc3 = nlp(\"Mme JOUDKIA est jolie. Elle mange des fleurs. Monsieur LEBORGNE est malade. Il est à l'hopital.\")\n"
   ]
  },
  {
   "cell_type": "code",
   "execution_count": null,
   "metadata": {},
   "outputs": [],
   "source": []
  }
 ],
 "metadata": {
  "kernelspec": {
   "display_name": "hackathon",
   "language": "python",
   "name": "python3"
  },
  "language_info": {
   "codemirror_mode": {
    "name": "ipython",
    "version": 3
   },
   "file_extension": ".py",
   "mimetype": "text/x-python",
   "name": "python",
   "nbconvert_exporter": "python",
   "pygments_lexer": "ipython3",
   "version": "3.9.19"
  }
 },
 "nbformat": 4,
 "nbformat_minor": 2
}
