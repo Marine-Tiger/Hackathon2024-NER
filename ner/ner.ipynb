{
 "cells": [
  {
   "cell_type": "code",
   "execution_count": null,
   "metadata": {},
   "outputs": [],
   "source": [
    "import spacy\n",
    "nlp = spacy.load(\"fr_core_news_sm\")"
   ]
  },
  {
   "cell_type": "code",
   "execution_count": 2,
   "metadata": {},
   "outputs": [],
   "source": [
    "import sys\n",
    "sys.path.append('..')\n",
    "from extract_corpus import get_corpus\n",
    "\n",
    "corpus = get_corpus('../data')\n"
   ]
  },
  {
   "cell_type": "code",
   "execution_count": 6,
   "metadata": {},
   "outputs": [
    {
     "name": "stdout",
     "output_type": "stream",
     "text": [
      "1917\n",
      "1918\n",
      "1919\n",
      "1920\n",
      "1921\n",
      "1834\n",
      "1832\n",
      "1835\n",
      "1836\n",
      "1827\n",
      "1828\n",
      "1889\n",
      "1890\n",
      "1891\n",
      "1892\n",
      "1893\n",
      "1894\n",
      "1895\n",
      "1829\n",
      "1830\n",
      "1845\n",
      "1846\n",
      "1847\n",
      "1848\n",
      "1849\n",
      "1824\n",
      "1825\n",
      "1813\n",
      "1814\n",
      "1817\n",
      "1807\n",
      "1808\n",
      "1809\n",
      "1909\n",
      "1810\n",
      "1811\n",
      "1831\n",
      "1821\n",
      "1822\n",
      "1823\n",
      "1833\n",
      "1838\n",
      "1837\n",
      "1826\n",
      "1839\n",
      "1888\n",
      "1896\n",
      "1897\n",
      "1898\n"
     ]
    }
   ],
   "source": [
    "# for year in corpus:\n",
    "#   print(year)\n",
    "\n",
    "corpus['']"
   ]
  }
 ],
 "metadata": {
  "kernelspec": {
   "display_name": "scienceinfuse",
   "language": "python",
   "name": "python3"
  },
  "language_info": {
   "codemirror_mode": {
    "name": "ipython",
    "version": 3
   },
   "file_extension": ".py",
   "mimetype": "text/x-python",
   "name": "python",
   "nbconvert_exporter": "python",
   "pygments_lexer": "ipython3",
   "version": "3.9.19"
  }
 },
 "nbformat": 4,
 "nbformat_minor": 2
}
