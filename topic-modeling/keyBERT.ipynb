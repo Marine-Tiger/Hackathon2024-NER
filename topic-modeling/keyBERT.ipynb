{
 "cells": [
  {
   "cell_type": "code",
   "execution_count": 6,
   "metadata": {},
   "outputs": [],
   "source": [
    "import spacy\n",
    "import torch\n",
    "import os\n",
    "from sentence_transformers import SentenceTransformer\n",
    "from keybert import KeyBERT\n",
    "from sklearn.feature_extraction.text import CountVectorizer\n",
    "import sys\n",
    "sys.path.append('..')\n",
    "from extract_corpus import get_corpus\n",
    "corpus = get_corpus('../data')\n",
    "\n",
    "# Initialize the Sentence Transformer Model\n",
    "sentence_model = SentenceTransformer(\"distiluse-base-multilingual-cased-v1\")\n",
    "kw_model = KeyBERT(model=sentence_model)\n",
    "\n",
    "# Download and set up French stop words\n",
    "## si spaCy\n",
    "\n",
    "# Load spaCy French model\n",
    "nlp = spacy.load('fr_core_news_lg')\n",
    "# Convert spaCy's set of stop words to a list\n",
    "french_stop_words = list(nlp.Defaults.stop_words)\n",
    "\n",
    "\n",
    "## si NLTK\n",
    "# nltk.download('stopwords')\n",
    "# from nltk.corpus import stopwords\n",
    "# french_stop_words = stopwords.words('french')\n",
    "\n",
    "# Initialize CountVectorizer with French stop words\n",
    "vectorizer = CountVectorizer(ngram_range=(1, 2), stop_words=french_stop_words)"
   ]
  }
 ],
 "metadata": {
  "kernelspec": {
   "display_name": "hackathon",
   "language": "python",
   "name": "python3"
  },
  "language_info": {
   "codemirror_mode": {
    "name": "ipython",
    "version": 3
   },
   "file_extension": ".py",
   "mimetype": "text/x-python",
   "name": "python",
   "nbconvert_exporter": "python",
   "pygments_lexer": "ipython3",
   "version": "3.9.19"
  }
 },
 "nbformat": 4,
 "nbformat_minor": 2
}
