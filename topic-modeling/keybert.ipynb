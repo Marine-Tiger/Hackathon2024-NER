{
 "cells": [
  {
   "cell_type": "code",
   "execution_count": 1,
   "metadata": {},
   "outputs": [],
   "source": [
    "import sys\n",
    "sys.path.append('..')\n",
    "from extract_corpus import get_coref_corpus\n",
    "\n",
    "corpus = get_coref_corpus()\n"
   ]
  },
  {
   "cell_type": "code",
   "execution_count": 2,
   "metadata": {},
   "outputs": [
    {
     "name": "stderr",
     "output_type": "stream",
     "text": [
      "/home/erwan/anaconda3/envs/hackathon/lib/python3.9/site-packages/sentence_transformers/cross_encoder/CrossEncoder.py:11: TqdmWarning: IProgress not found. Please update jupyter and ipywidgets. See https://ipywidgets.readthedocs.io/en/stable/user_install.html\n",
      "  from tqdm.autonotebook import tqdm, trange\n"
     ]
    }
   ],
   "source": [
    "from keybert import KeyBERT\n",
    "\n",
    "kw_model = KeyBERT()\n",
    "for year in [\"1814\"]:\n",
    "    year_text = \"\\n\".join([chunk.text for chunk in corpus[year]]) #le but c'est de concatener le texte de chaque chunk de 1917\n",
    "    keywords = kw_model.extract_keywords(year_text)"
   ]
  },
  {
   "cell_type": "code",
   "execution_count": 14,
   "metadata": {},
   "outputs": [
    {
     "name": "stderr",
     "output_type": "stream",
     "text": [
      "/home/erwan/anaconda3/envs/hackathon/lib/python3.9/site-packages/sklearn/feature_extraction/text.py:408: UserWarning: Your stop_words may be inconsistent with your preprocessing. Tokenizing the stop words generated tokens ['neuf', 'qu', 'quelqu'] not in stop_words.\n",
      "  warnings.warn(\n"
     ]
    },
    {
     "data": {
      "text/plain": [
       "[('hôtel', 0.4261),\n",
       " ('garni', 0.3944),\n",
       " ('visite', 0.3861),\n",
       " ('visites', 0.3555),\n",
       " ('examen', 0.3338),\n",
       " ('passagère', 0.3205),\n",
       " ('rentreront', 0.3197),\n",
       " ('garnisons', 0.3099),\n",
       " ('département', 0.3048),\n",
       " ('gouvernement', 0.3032),\n",
       " ('visiter', 0.3027),\n",
       " ('gouverneur', 0.3023),\n",
       " ('zèle', 0.2994),\n",
       " ('expressément', 0.2969),\n",
       " ('supérieure', 0.2968),\n",
       " ('errer', 0.2962),\n",
       " ('cessent', 0.2955),\n",
       " ('extérieures', 0.2945),\n",
       " ('départements', 0.2942),\n",
       " ('spécialement', 0.2931),\n",
       " ('pelicieren', 0.2929),\n",
       " ('reconnaître', 0.2905),\n",
       " ('rentre', 0.2904),\n",
       " ('comédieavoir', 0.2896),\n",
       " ('attendre', 0.2879),\n",
       " ('delavilleneuve', 0.2877),\n",
       " ('tenante', 0.2876),\n",
       " ('généralement', 0.2859),\n",
       " ('gaieté', 0.2851),\n",
       " ('huitaine', 0.2793),\n",
       " ('rente', 0.2763),\n",
       " ('tourné', 0.2755),\n",
       " ('tourne', 0.2755),\n",
       " ('eussent', 0.2748),\n",
       " ('lescour', 0.2743),\n",
       " ('générale', 0.274),\n",
       " ('momentanément', 0.2737),\n",
       " ('examinée', 0.2733),\n",
       " ('dernièrement', 0.2719),\n",
       " ('connaître', 0.2719),\n",
       " ('impérieux', 0.2708),\n",
       " ('rivière', 0.2698),\n",
       " ('consultera', 0.2692),\n",
       " ('primauté', 0.2676),\n",
       " ('pensionné', 0.2665),\n",
       " ('evariste', 0.2653),\n",
       " ('gratuitement', 0.2652),\n",
       " ('principalement', 0.2634),\n",
       " ('erreur', 0.2633),\n",
       " ('intérieure', 0.2626),\n",
       " ('rentrés', 0.2624),\n",
       " ('présentement', 0.2594),\n",
       " ('lequesne', 0.2585),\n",
       " ('logement', 0.2584),\n",
       " ('grandmesnil', 0.2582),\n",
       " ('guère', 0.2581),\n",
       " ('extérieur', 0.2578),\n",
       " ('rentrer', 0.2561),\n",
       " ('contrevenir', 0.2557),\n",
       " ('juridiquement', 0.2557),\n",
       " ('vignyautorise', 0.2556),\n",
       " ('payement', 0.2555),\n",
       " ('commissaire', 0.2554),\n",
       " ('gontier', 0.2549),\n",
       " ('extérieurement', 0.2544),\n",
       " ('ceintre', 0.253),\n",
       " ('totalement', 0.2523),\n",
       " ('gosse', 0.252),\n",
       " ('espèrent', 0.2519),\n",
       " ('comitéavoir', 0.251),\n",
       " ('démissionnaire', 0.2508),\n",
       " ('conservée', 0.2492),\n",
       " ('ailleurs', 0.2487),\n",
       " ('commissionnaire', 0.2486),\n",
       " ('passera', 0.2485),\n",
       " ('jeux', 0.2482),\n",
       " ('appointement', 0.2481),\n",
       " ('dorfeuille', 0.2478),\n",
       " ('huiles', 0.2478),\n",
       " ('mayenne', 0.2475),\n",
       " ('garçon', 0.2459),\n",
       " ('chevigny', 0.2451),\n",
       " ('supérieur', 0.2442),\n",
       " ('gavaudan', 0.2442),\n",
       " ('prière', 0.244),\n",
       " ('commis', 0.2437),\n",
       " ('occasionné', 0.2434),\n",
       " ('antérieurement', 0.2432),\n",
       " ('caruette', 0.243),\n",
       " ('céreste', 0.243),\n",
       " ('ultérieurs', 0.2426),\n",
       " ('époques', 0.2422),\n",
       " ('admettre', 0.242),\n",
       " ('cour', 0.2419),\n",
       " ('ultérieurement', 0.2417),\n",
       " ('passe', 0.24),\n",
       " ('passé', 0.24),\n",
       " ('cartignyautoriser', 0.2397),\n",
       " ('carruette', 0.2396),\n",
       " ('espère', 0.2391)]"
      ]
     },
     "execution_count": 14,
     "metadata": {},
     "output_type": "execute_result"
    }
   ],
   "source": [
    "from spacy.lang.fr import stop_words\n",
    "stop_words = stop_words.STOP_WORDS\n",
    "\n",
    "kw_model.extract_keywords(year_text, top_n=100, stop_words=list(stop_words))\n"
   ]
  }
 ],
 "metadata": {
  "kernelspec": {
   "display_name": "hackathon2",
   "language": "python",
   "name": "hackathon"
  },
  "language_info": {
   "codemirror_mode": {
    "name": "ipython",
    "version": 3
   },
   "file_extension": ".py",
   "mimetype": "text/x-python",
   "name": "python",
   "nbconvert_exporter": "python",
   "pygments_lexer": "ipython3",
   "version": "3.9.19"
  }
 },
 "nbformat": 4,
 "nbformat_minor": 2
}
