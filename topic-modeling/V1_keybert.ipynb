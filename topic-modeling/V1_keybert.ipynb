{
 "cells": [
  {
   "cell_type": "code",
   "execution_count": 9,
   "metadata": {},
   "outputs": [],
   "source": [
    "import sys\n",
    "sys.path.append('..')\n",
    "from extract_corpus import get_corpus\n",
    "\n",
    "corpus = get_corpus('../data')\n"
   ]
  },
  {
   "cell_type": "code",
   "execution_count": 13,
   "metadata": {},
   "outputs": [],
   "source": [
    "from keybert import KeyBERT\n",
    "\n",
    "kw_model = KeyBERT()\n",
    "for year in [\"1845\"]:\n",
    "    year_text = \"\\n\".join([chunk.text for chunk in corpus[year]]) #le but c'est de concatener le texte de chaque chunk de 1917\n",
    "    keywords = kw_model.extract_keywords(year_text)"
   ]
  },
  {
   "cell_type": "code",
   "execution_count": 14,
   "metadata": {},
   "outputs": [
    {
     "name": "stderr",
     "output_type": "stream",
     "text": [
      "/home/marine/Documents/Hackathon2024-NER/env/lib/python3.10/site-packages/sklearn/feature_extraction/text.py:408: UserWarning: Your stop_words may be inconsistent with your preprocessing. Tokenizing the stop words generated tokens ['neuf', 'qu', 'quelqu'] not in stop_words.\n",
      "  warnings.warn(\n"
     ]
    },
    {
     "data": {
      "text/plain": [
       "[('conservatoire', 0.3988),\n",
       " ('école', 0.3629),\n",
       " ('vrais', 0.3603),\n",
       " ('théâtre', 0.3584),\n",
       " ('débattre', 0.3583),\n",
       " ('pensionnaires', 0.3572),\n",
       " ('pensionnaire', 0.3488),\n",
       " ('département', 0.3487),\n",
       " ('française', 0.3438),\n",
       " ('payement', 0.3429),\n",
       " ('connaître', 0.3407),\n",
       " ('contre', 0.3407),\n",
       " ('professeur', 0.3355),\n",
       " ('classement', 0.3275),\n",
       " ('acteurs', 0.3253),\n",
       " ('supérieure', 0.3201),\n",
       " ('entré', 0.3192),\n",
       " ('examen', 0.3189),\n",
       " ('ardeur', 0.3183),\n",
       " ('entreprendre', 0.3171),\n",
       " ('faite', 0.3151),\n",
       " ('intérieur', 0.3135),\n",
       " ('vénale', 0.3128),\n",
       " ('enquête', 0.3127),\n",
       " ('connaissances', 0.3125),\n",
       " ('connaissance', 0.3125),\n",
       " ('français', 0.3114),\n",
       " ('entièrement', 0.3107),\n",
       " ('musicale', 0.3106),\n",
       " ('entrevoir', 0.3099),\n",
       " ('tragiques', 0.3087),\n",
       " ('dramatique', 0.3082),\n",
       " ('jugement', 0.3082),\n",
       " ('tenante', 0.308),\n",
       " ('intérieurs', 0.305),\n",
       " ('anglais', 0.3045),\n",
       " ('commissionnaires', 0.3028),\n",
       " ('mouvement', 0.3024),\n",
       " ('fondement', 0.302),\n",
       " ('commissionnaire', 0.3011),\n",
       " ('pensent', 0.3007),\n",
       " ('renouvellement', 0.3006),\n",
       " ('contesté', 0.2995),\n",
       " ('dramatiques', 0.2988),\n",
       " ('ponchard', 0.2986),\n",
       " ('délais', 0.2978),\n",
       " ('impérieux', 0.2971),\n",
       " ('acquittement', 0.2971),\n",
       " ('études', 0.297),\n",
       " ('étendre', 0.2964),\n",
       " ('comiques', 0.2957),\n",
       " ('lecteurs', 0.2955),\n",
       " ('beaux', 0.2948),\n",
       " ('utilement', 0.2923),\n",
       " ('prieur', 0.2918),\n",
       " ('monumentale', 0.2916),\n",
       " ('bienveillante', 0.2916),\n",
       " ('publiée', 0.2908),\n",
       " ('danse', 0.2903),\n",
       " ('hautement', 0.2894),\n",
       " ('généralement', 0.2893),\n",
       " ('milieu', 0.2892),\n",
       " ('entretenir', 0.2891),\n",
       " ('prévaloir', 0.2888),\n",
       " ('académie', 0.2884),\n",
       " ('ailleurs', 0.2884),\n",
       " ('appointement', 0.2883),\n",
       " ('titre', 0.2882),\n",
       " ('confraternité', 0.2879),\n",
       " ('papeterie', 0.2876),\n",
       " ('bienveillance', 0.2873),\n",
       " ('empressement', 0.2868),\n",
       " ('ensuite', 0.2868),\n",
       " ('voleur', 0.2867),\n",
       " ('pourraient', 0.2866),\n",
       " ('pâques', 0.286),\n",
       " ('vient', 0.286),\n",
       " ('commissaire', 0.2851),\n",
       " ('paraître', 0.2836),\n",
       " ('domicile', 0.283),\n",
       " ('péremptoires', 0.2825),\n",
       " ('entrer', 0.2825),\n",
       " ('nouvellement', 0.2822),\n",
       " ('précédente', 0.2817),\n",
       " ('valoir', 0.2814),\n",
       " ('intitulée', 0.2812),\n",
       " ('consulte', 0.2802),\n",
       " ('territoriale', 0.2802),\n",
       " ('lettre', 0.2796),\n",
       " ('paiement', 0.2791),\n",
       " ('mainvielle', 0.2785),\n",
       " ('demande', 0.2771),\n",
       " ('demandé', 0.2771),\n",
       " ('vieillards', 0.2769),\n",
       " ('espère', 0.2768),\n",
       " ('acteur', 0.2755),\n",
       " ('laissent', 0.2746),\n",
       " ('montrer', 0.2745),\n",
       " ('faute', 0.2743),\n",
       " ('voulant', 0.2737)]"
      ]
     },
     "execution_count": 14,
     "metadata": {},
     "output_type": "execute_result"
    }
   ],
   "source": [
    "from spacy.lang.fr import stop_words\n",
    "stop_words = stop_words.STOP_WORDS\n",
    "\n",
    "kw_model.extract_keywords(year_text, top_n=100, stop_words=list(stop_words))\n"
   ]
  }
 ],
 "metadata": {
  "kernelspec": {
   "display_name": "env",
   "language": "python",
   "name": "python3"
  },
  "language_info": {
   "codemirror_mode": {
    "name": "ipython",
    "version": 3
   },
   "file_extension": ".py",
   "mimetype": "text/x-python",
   "name": "python",
   "nbconvert_exporter": "python",
   "pygments_lexer": "ipython3",
   "version": "3.10.12"
  }
 },
 "nbformat": 4,
 "nbformat_minor": 2
}
